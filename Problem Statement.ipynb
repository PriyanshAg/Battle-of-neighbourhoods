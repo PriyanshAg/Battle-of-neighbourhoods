{
 "cells": [
  {
   "cell_type": "markdown",
   "metadata": {},
   "source": [
    "## Introduction\n",
    "\n",
    "A data scientist currently residing in Downtown Singapore. He currently live within walking distance to Downtown \"Telok Ayer MRT metro station\" therefore He has access to good public transportation to work. Likewise, He enjoy many ammenities in the neighborhood , such as international cousine restaurants, cafes, food shops and entertainment. He has been offered a great opportunity to work in Manhattan, NY. Although, He is very excited about it, He is a bit stress toward the process to secure a comparable place to live in Manhattan. Therefore, He decided to apply the learned skills during the Coursera course to explore ways to make sure his decision is factual and rewarding.\n",
    "The challenge to resolve is being able to find a rental apartment unit in Manhattan NY that offers similar characteristics and benefits to my current situation. Therefore, in order to set a basis for comparison, we want to find a renta unit subject to the following conditions:\n",
    "•\tApartment with min 2 bedrooms with monthly rent not to exceed US$7000/month\n",
    "•\tUnit located within walking distance (<=1.0 mile, 1.6 km) from a subway metro station in Manhattan\n",
    "•\tArea with ammenities and venues similar to the ones described for the location\n",
    "\n"
   ]
  },
  {
   "cell_type": "markdown",
   "metadata": {},
   "source": [
    "## Interested Audience\n",
    "I believe this is a relevant project for a person or entity considering moving to a major city in Europe, US or Asia, since the approach and methodologies used here are applicable in all cases. The use of FourSquare data and mapping techniques combined with data analysis will help resolve the key questions arisen. Lastly, this project is a good practical case toward the development of Data Science skills\n"
   ]
  },
  {
   "cell_type": "code",
   "execution_count": null,
   "metadata": {},
   "outputs": [],
   "source": []
  }
 ],
 "metadata": {
  "kernelspec": {
   "display_name": "Python 3",
   "language": "python",
   "name": "python3"
  },
  "language_info": {
   "codemirror_mode": {
    "name": "ipython",
    "version": 3
   },
   "file_extension": ".py",
   "mimetype": "text/x-python",
   "name": "python",
   "nbconvert_exporter": "python",
   "pygments_lexer": "ipython3",
   "version": "3.7.4"
  }
 },
 "nbformat": 4,
 "nbformat_minor": 2
}
